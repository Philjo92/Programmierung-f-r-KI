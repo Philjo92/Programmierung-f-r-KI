{
 "cells": [
  {
   "cell_type": "code",
   "execution_count": 1,
   "id": "c1247852",
   "metadata": {},
   "outputs": [
    {
     "data": {
      "application/vnd.jupyter.widget-view+json": {
       "model_id": "0d6786bc4a6f4b01bfcfe0a06bcda94d",
       "version_major": 2,
       "version_minor": 0
      },
      "text/plain": [
       "IntSlider(value=5, description='Wert:', max=10)"
      ]
     },
     "metadata": {},
     "output_type": "display_data"
    },
    {
     "name": "stdout",
     "output_type": "stream",
     "text": [
      "Neuer Wert: 6\n",
      "Neuer Wert: 7\n",
      "Neuer Wert: 8\n",
      "Neuer Wert: 9\n",
      "Neuer Wert: 10\n",
      "Neuer Wert: 9\n",
      "Neuer Wert: 8\n",
      "Neuer Wert: 7\n",
      "Neuer Wert: 6\n",
      "Neuer Wert: 5\n",
      "Neuer Wert: 4\n",
      "Neuer Wert: 3\n",
      "Neuer Wert: 2\n",
      "Neuer Wert: 1\n",
      "Neuer Wert: 0\n",
      "Neuer Wert: 1\n",
      "Neuer Wert: 2\n",
      "Neuer Wert: 3\n",
      "Neuer Wert: 4\n",
      "Neuer Wert: 5\n",
      "Neuer Wert: 6\n",
      "Neuer Wert: 7\n",
      "Neuer Wert: 8\n",
      "Neuer Wert: 7\n",
      "Neuer Wert: 6\n",
      "Neuer Wert: 5\n",
      "Neuer Wert: 4\n",
      "Neuer Wert: 3\n",
      "Neuer Wert: 2\n"
     ]
    }
   ],
   "source": [
    "##chat gpt\n",
    "import ipywidgets as widgets\n",
    "from IPython.display import display\n",
    "\n",
    "# Slider erstellen\n",
    "slider = widgets.IntSlider(min=0, max=10, value=5, description='Wert:')\n",
    "\n",
    "# Funktion, die auf Änderungen des Sliders reagiert\n",
    "def handle_slider_change(change):\n",
    "    print(f\"Neuer Wert: {change['new']}\")\n",
    "\n",
    "# Ereignis an den Slider binden\n",
    "slider.observe(handle_slider_change, names='value')\n",
    "\n",
    "# Den Slider anzeigen\n",
    "display(slider)"
   ]
  },
  {
   "cell_type": "code",
   "execution_count": 3,
   "id": "a194ba3f",
   "metadata": {
    "tags": []
   },
   "outputs": [
    {
     "name": "stdout",
     "output_type": "stream",
     "text": [
      "Requirement already satisfied: tkinterhtml in c:\\users\\mappe\\anaconda3\\lib\\site-packages (0.7)\n"
     ]
    }
   ],
   "source": [
    "!pip install tkinterhtml\n",
    "import tkinter as tk\n",
    "from tkinterhtml import HtmlFrame\n",
    "def button_click():\n",
    "    label.config(text=\"Button wurde geklickt!\")\n",
    "root = tk.Tk()\n",
    "root.title(\"Mein GUI\")\n",
    "label = tk.Label(root, text=\"Hallo, dies ist eine GUI!\")\n",
    "label.pack()\n",
    "button = tk.Button(root, text=\"Klick mich!\", command=button_click)\n",
    "button.pack()\n",
    "root.mainloop()\n"
   ]
  },
  {
   "cell_type": "code",
   "execution_count": 3,
   "id": "5376fc72",
   "metadata": {
    "tags": []
   },
   "outputs": [],
   "source": [
    "\n",
    "def on_button_click():\n",
    "    value = entry.get()\n",
    "    label.config(text=f\"Eingegebene Straße: {value}\")\n",
    "    label1.config(text=f\"Eingegebene PLZ: {value}\")\n",
    "# Erstelle das Hauptfenster\n",
    "root = tk.Tk()\n",
    "root.title(\"Eingabefeld Beispiel\")\n",
    "\n",
    "# Erstelle ein Label\n",
    "label = tk.Label(root, text=\"Gib eine Straße ein:\")\n",
    "label.pack()\n",
    "\n",
    "# Erstelle ein Eingabefeld\n",
    "entry = tk.Entry(root)\n",
    "entry.pack()\n",
    "label1 =tk.Label(root, text=\"Gib eine PLZ ein:\")\n",
    "label1.pack()\n",
    "entry1 = tk.Entry(root)\n",
    "entry1.pack()\n",
    "\n",
    "# Erstelle einen Button, der den eingegebenen Text ausgibt\n",
    "button = tk.Button(root, text=\"Bestätigen\", command=on_button_click)\n",
    "button.pack(side =\"left\", padx=100, pady=100)\n",
    "root.mainloop()\n"
   ]
  },
  {
   "cell_type": "code",
   "execution_count": 2,
   "id": "5ec54f7c",
   "metadata": {
    "tags": []
   },
   "outputs": [
    {
     "name": "stdout",
     "output_type": "stream",
     "text": [
      "Requirement already satisfied: geopy in c:\\users\\mappe\\anaconda3\\lib\\site-packages (2.4.1)\n",
      "Requirement already satisfied: geographiclib<3,>=1.52 in c:\\users\\mappe\\anaconda3\\lib\\site-packages (from geopy) (2.0)\n"
     ]
    }
   ],
   "source": [
    "!pip install geopy\n",
    "import pandas as pd\n",
    "\n",
    "from geopy.geocoders import Nominatim\n",
    "import tkinter as tk\n",
    "geolocator = Nominatim(user_agent=\"Exercises\")\n"
   ]
  },
  {
   "cell_type": "code",
   "execution_count": 3,
   "id": "31980be3",
   "metadata": {
    "tags": []
   },
   "outputs": [],
   "source": [
    "def get_geolocation_GUI(Straße, PLZ):\n",
    "    try:\n",
    "        address = Straße, PLZ\n",
    "        location = geolocator.geocode(address)\n",
    "        if location:\n",
    "            return location.latitude, location.longitude\n",
    "        else:\n",
    "            return None, None\n",
    "        print (\"ping\")\n",
    "    except:\n",
    "        print(address)\n",
    "        return None,None "
   ]
  },
  {
   "cell_type": "code",
   "execution_count": 5,
   "id": "1eec7cd2",
   "metadata": {
    "tags": []
   },
   "outputs": [],
   "source": [
    "value = \"test\"\n",
    "value1 =\"test\"\n",
    "import webbrowser\n",
    "import tkinter as tk\n",
    "from tkinterhtml import HtmlFrame\n",
    "\n",
    "def update_output():\n",
    "    # Hier könnten Datenverarbeitung oder Berechnungen stattfinden\n",
    "    # Nehmen wir an, wir haben ein Ergebnis, das wir anzeigen wollen\n",
    "    result = get_geolocation_GUI(value,value1)\n",
    "\n",
    "    # Lösche den aktuellen Inhalt und füge das neue Ergebnis hinzu\n",
    "    output.config(state=tk.NORMAL)  # Aktiviere das Textfeld für Änderungen\n",
    "    output.delete(1.0, tk.END)  # Lösche den aktuellen Inhalt\n",
    "    output.insert(tk.END, result)  # Füge das Ergebnis ein\n",
    "    output.config(state=tk.DISABLED) \n",
    "\n",
    "\n",
    "def on_button_click():\n",
    "    value = entry.get()\n",
    "    value1 =entry1.get()\n",
    "    label.config(text=f\"Eingegebene Straße: {value}\")\n",
    "    label1.config(text=f\"Eingegebene PLZ: {value}\")\n",
    "    update_output()\n",
    "    \n",
    "x=0    \n",
    "# Erstelle das Hauptfenster\n",
    "root = tk.Tk()\n",
    "root.title(\"Eingabefeld Beispiel\")\n",
    "\n",
    "# Erstelle ein Label\n",
    "label = tk.Label(root, text=\"Gib eine Straße ein:\")\n",
    "label.pack()\n",
    "\n",
    "# Erstelle ein Eingabefeld\n",
    "entry = tk.Entry(root)\n",
    "entry.pack()\n",
    "label1 =tk.Label(root, text=\"Gib eine PLZ ein:\")\n",
    "label1.pack()\n",
    "entry1 = tk.Entry(root)\n",
    "entry1.pack(pady=30)\n",
    "\n",
    "#erstelle Ausgafeld\n",
    "Outputlabel1 =tk.Label(root, text=\"Geodaten\")\n",
    "Outputlabel1.pack()\n",
    "output = tk.Text(root, height=1, width=100, state=tk.DISABLED)\n",
    "output.pack()\n",
    "\n",
    "\n",
    "# Erstelle einen Button, der den eingegebenen Text ausgibt\n",
    "button = tk.Button(root, text=\"Bestätigen\", command=on_button_click)\n",
    "button.pack(side =\"bottom\", padx=100, pady=100)\n",
    "\n",
    "\n",
    "def open_file():\n",
    "    file_path = \"addresses_map.html\" #filedialog.askopenfilename()\n",
    "    if file_path:  # Überprüfen, ob eine Datei ausgewählt wurde\n",
    "        with open(file_path, 'r') as file:\n",
    "            content = file.read()\n",
    "            text.delete(1.0, tk.END)  # Lösche den vorhandenen Text im Textfeld\n",
    "            text.insert(tk.END, content)  # Füge den Inhalt der ausgewählten Datei hinzu\n",
    "\n",
    "open_button = tk.Button(root, text=\"Datei öffnen\", command=open_file)\n",
    "open_button.pack()\n",
    "\n",
    "# Textfeld zum Anzeigen des Dateiinhalts\n",
    "text = tk.Text(root, height=10, width=50)\n",
    "text.pack()\n",
    "\n",
    "def open_website():\n",
    "    url = \"addresses_map.html\"  # Ersetze dies durch die gewünschte URL\n",
    "    webbrowser.open(url)\n",
    "\n",
    "\n",
    "open_button = tk.Button(root, text=\"Karte öffnen\", command=open_website)\n",
    "open_button.pack()\n",
    "\n",
    "root.mainloop()\n",
    "\n"
   ]
  },
  {
   "cell_type": "code",
   "execution_count": 18,
   "id": "eef68dff-f5aa-424f-bb49-efff513270a0",
   "metadata": {
    "tags": []
   },
   "outputs": [
    {
     "name": "stdout",
     "output_type": "stream",
     "text": [
      "Requirement already satisfied: pandas in c:\\users\\mappe\\anaconda3\\lib\\site-packages (1.5.3)\n",
      "Requirement already satisfied: python-dateutil>=2.8.1 in c:\\users\\mappe\\anaconda3\\lib\\site-packages (from pandas) (2.8.2)\n",
      "Requirement already satisfied: pytz>=2020.1 in c:\\users\\mappe\\anaconda3\\lib\\site-packages (from pandas) (2022.7)\n",
      "Requirement already satisfied: numpy>=1.21.0 in c:\\users\\mappe\\anaconda3\\lib\\site-packages (from pandas) (1.24.3)\n",
      "Requirement already satisfied: six>=1.5 in c:\\users\\mappe\\anaconda3\\lib\\site-packages (from python-dateutil>=2.8.1->pandas) (1.16.0)\n"
     ]
    }
   ],
   "source": [
    "!pip install pandas\n",
    "import pandas as pd\n",
    "import tkinter as tk\n",
    "from tkinter import filedialog\n",
    "import matplotlib.pyplot as plt ## Vorraussetzung für PDF Ausgabe"
   ]
  },
  {
   "cell_type": "code",
   "execution_count": 7,
   "id": "430827bb-a57f-4e25-89dc-b2d4563320b0",
   "metadata": {
    "tags": []
   },
   "outputs": [
    {
     "name": "stdout",
     "output_type": "stream",
     "text": [
      "Die ausgewählte Datei ist: C:/Users/mappe/Desktop/Datenbank.xlsx\n",
      "['Name', 'Straße', 'Hausnummer', 'PLZ', 'Stadt', 'Kreis', 'Bundesland', 'Telefon', 'Email']\n"
     ]
    }
   ],
   "source": [
    "##Ab hier 22.12.23 einzeln nacheinander ausführen\n",
    "#GUI zum hochladen einer Datei\n",
    "#import tkinter as tk\n",
    "#from tkinter import filedialog\n",
    "global file_path\n",
    "\n",
    "def upload_file():\n",
    "    global file_path\n",
    "    file_path = filedialog.askopenfilename(filetypes=[(\"Excel Files\", \"*.xlsx;*.xls\")])  # Öffnet ein Dateiauswahlfenster mit den Vorgaben Excelfiles auswählen zu können\n",
    "    if file_path:  # Überprüfen, ob eine Datei ausgewählt wurde\n",
    "        # Hier kannst du den Dateipfad verwenden, um die Datei zu öffnen oder andere Operationen durchzuführen\n",
    "        \n",
    "        print(f\"Die ausgewählte Datei ist: {file_path}\")\n",
    "        labelAusgewählteDatei.config(text=f\"Die ausgewählte Datei ist {file_path}\")\n",
    "        \n",
    "def bestätigen():        \n",
    "    global data\n",
    "    data = pd.read_excel(file_path)\n",
    "    root.destroy()\n",
    "    Fenster2(data)\n",
    "    \n",
    "    \n",
    "root = tk.Tk()\n",
    "root.title(\"Datei hochladen\")\n",
    "\n",
    "# Erstelle ein Label\n",
    "labelAusgewählteDatei = tk.Label(root, text=\"keine Datei ausgewählt\")\n",
    "labelAusgewählteDatei.pack()\n",
    "\n",
    "# Erstelle Button\n",
    "upload_button = tk.Button(root, text=\"Datei hochladen\", command=upload_file)\n",
    "upload_button.pack()\n",
    "\n",
    "Bestätigungsbutton = tk.Button(root, text=\"Bestätigen\", command=bestätigen)\n",
    "Bestätigungsbutton.pack()\n",
    "\n",
    "root.mainloop()"
   ]
  },
  {
   "cell_type": "code",
   "execution_count": 3,
   "id": "4d0ab1e9-b635-43e2-b191-ff92c8d822f4",
   "metadata": {
    "tags": []
   },
   "outputs": [],
   "source": [
    "## Fenster nach Bestätigung\n",
    "\n",
    "def Fenster2(data): \n",
    "    def button_click(column_name):\n",
    "        print(f\"Button für Spalte {column_name} wurde geklickt\")\n",
    "    def checkbox_clicked(column_name):\n",
    "        #if variable.get() == 1:\n",
    "         #   print(f\"Checkbutton{column_name} ist ausgewählt\")\n",
    "        else:\n",
    "            print(f\"Checkbutton{column_name} ist nicht ausgewählt\")\n",
    "    Spaltennamen =data.columns.tolist()\n",
    "    print(Spaltennamen)\n",
    "    root = tk.Tk()\n",
    "    root.title(\"Spalten auswählen für GEODaten\")\n",
    "    for col in data.columns:#Quelle ChatGPT\n",
    "        button = tk.Checkbutton(root, text=col, command=lambda col=col:checkbox_clicked(col)) ##lambda bindet col wöhrend allen schleifeniterationen\n",
    "        button.pack()"
   ]
  },
  {
   "cell_type": "code",
   "execution_count": 8,
   "id": "a325a70e",
   "metadata": {
    "tags": []
   },
   "outputs": [
    {
     "name": "stdout",
     "output_type": "stream",
     "text": [
      "Requirement already satisfied: geopy in c:\\users\\mappe\\anaconda3\\lib\\site-packages (2.4.1)\n",
      "Requirement already satisfied: geographiclib<3,>=1.52 in c:\\users\\mappe\\anaconda3\\lib\\site-packages (from geopy) (2.0)\n",
      "Requirement already satisfied: folium in c:\\users\\mappe\\anaconda3\\lib\\site-packages (0.15.1)\n",
      "Requirement already satisfied: branca>=0.6.0 in c:\\users\\mappe\\anaconda3\\lib\\site-packages (from folium) (0.7.0)\n",
      "Requirement already satisfied: jinja2>=2.9 in c:\\users\\mappe\\anaconda3\\lib\\site-packages (from folium) (3.1.2)\n",
      "Requirement already satisfied: numpy in c:\\users\\mappe\\anaconda3\\lib\\site-packages (from folium) (1.24.3)\n",
      "Requirement already satisfied: requests in c:\\users\\mappe\\anaconda3\\lib\\site-packages (from folium) (2.31.0)\n",
      "Requirement already satisfied: xyzservices in c:\\users\\mappe\\anaconda3\\lib\\site-packages (from folium) (2022.9.0)\n",
      "Requirement already satisfied: MarkupSafe>=2.0 in c:\\users\\mappe\\anaconda3\\lib\\site-packages (from jinja2>=2.9->folium) (2.1.1)\n",
      "Requirement already satisfied: charset-normalizer<4,>=2 in c:\\users\\mappe\\anaconda3\\lib\\site-packages (from requests->folium) (2.0.4)\n",
      "Requirement already satisfied: idna<4,>=2.5 in c:\\users\\mappe\\anaconda3\\lib\\site-packages (from requests->folium) (3.4)\n",
      "Requirement already satisfied: urllib3<3,>=1.21.1 in c:\\users\\mappe\\anaconda3\\lib\\site-packages (from requests->folium) (1.26.16)\n",
      "Requirement already satisfied: certifi>=2017.4.17 in c:\\users\\mappe\\anaconda3\\lib\\site-packages (from requests->folium) (2023.7.22)\n",
      "läuft\n",
      "beendet\n"
     ]
    }
   ],
   "source": [
    "#!pip install pandas\n",
    "!pip install geopy\n",
    "!pip install folium\n",
    "\n",
    "if file_path is not None:\n",
    "    root.destroy\n",
    "\n",
    "#import pandas as pd\n",
    "from geopy.geocoders import Nominatim\n",
    "import folium\n",
    "from geopy.distance import geodesic #Iport für Entfernungsberechnung\n",
    "\n",
    "def get_user_input():\n",
    "    city = PLZ#input(\"Gib die Stadt ein: \")\n",
    "    radius = Umkreis# float(input(\"Gib den Umkreisradius in Kilometern ein: \"))\n",
    "    return city, radius\n",
    "\n",
    "def filter_addresses_by_radius(df, center_coords, radius):\n",
    "    \n",
    "    filtered_addresses = [] #neuer Liste für gefilterte adresse\n",
    "    \n",
    "    for index, row in df.iterrows():\n",
    "        coords = (row['Latitude'], row['Longitude'])\n",
    "        if not any(pd.isna(coord) for coord in coords):## isna fragt nach keinen oder NaN Werten\n",
    "            distance = geodesic(center_coords, coords).kilometers\n",
    "            if distance <= radius:\n",
    "                filtered_addresses.append(row['Address'])\n",
    "    return filtered_addresses\n",
    "\n",
    "##Dataframe aus Exceladatei\n",
    "#file_path = 'Datenbank.xlsx'\n",
    "data = pd.read_excel(file_path)\n",
    "df = data.iloc[:80].copy() ##Die ersten 80 Elemente in df schreiben\n",
    "print(\"läuft\")\n",
    "geolocator = Nominatim(user_agent=\"Exercises\")\n",
    "\n",
    "def get_geolocation(row):\n",
    "    try:\n",
    "        address = f\"{row['Straße']}, {row['PLZ']}\"\n",
    "        location = geolocator.geocode(address)\n",
    "        if location:\n",
    "            return location.latitude, location.longitude, location.address\n",
    "        else:\n",
    "            return None, None, None\n",
    "    except:\n",
    "        return None, None, None\n",
    "\n",
    "df[['Latitude', 'Longitude', 'Address']] = df.apply(get_geolocation, axis=1, result_type='expand')\n",
    "print(\"beendet\")"
   ]
  },
  {
   "cell_type": "code",
   "execution_count": null,
   "id": "5daf916d-7117-4d72-8c18-a740b1377ac7",
   "metadata": {
    "tags": []
   },
   "outputs": [
    {
     "name": "stdout",
     "output_type": "stream",
     "text": [
      "59425  200.0\n",
      "Map saved to addresses_map.html\n",
      "Filtered Addresses:\n",
      "['Johann-Dahlem-Straße, Kleinostheim, Landkreis Aschaffenburg, Bayern, 63814, Deutschland']\n",
      "                      0              1                         2        3  \\\n",
      "0  Johann-Dahlem-Straße   Kleinostheim   Landkreis Aschaffenburg   Bayern   \n",
      "\n",
      "        4             5  \n",
      "0   63814   Deutschland  \n"
     ]
    },
    {
     "data": {
      "image/png": "[encoded data removed]",
      "text/plain": [
       "<Figure size 1000x400 with 1 Axes>"
      ]
     },
     "metadata": {},
     "output_type": "display_data"
    }
   ],
   "source": [
    "## Gui für Eingabe der Adresse und des Umkreises\n",
    "Str =\"test\"\n",
    "PLZ =\"test\"\n",
    "Umkreis=\"Test\"\n",
    "global framedistance\n",
    "Initdf = {'A': [1, 2, 3], 'B': [4, 5, 6]}\n",
    "framedistance=pd.DataFrame(Initdf)\n",
    "def Test123(Str, PLZ, Umkreis):\n",
    "    print(Str, PLZ, Umkreis)\n",
    "    # Get user input for city and radius\n",
    "    city, radius = get_user_input()\n",
    "    global filtered_addresses\n",
    "    # Get coordinates of the specified city\n",
    "    city_location = geolocator.geocode(city)\n",
    "    if city_location:\n",
    "        center_coords = (city_location.latitude, city_location.longitude)\n",
    "\n",
    "        # Filter addresses within the specified radius\n",
    "        filtered_addresses = filter_addresses_by_radius(df, center_coords, radius)\n",
    "\n",
    "        # Display addresses in OpenStreetMap using folium\n",
    "        my_map = folium.Map(location=center_coords, zoom_start=6)\n",
    "\n",
    "        for index, row in df.iterrows():\n",
    "            coords = (row['Latitude'], row['Longitude'])\n",
    "            if not any(pd.isna(coord) for coord in coords):\n",
    "                distance = geodesic(center_coords, coords).kilometers\n",
    "                if distance <= radius:\n",
    "                    folium.Marker(\n",
    "                        location=[row['Latitude'], row['Longitude']],\n",
    "                        popup=row['Address'],\n",
    "                        icon=folium.Icon(color=\"blue\")\n",
    "                    ).add_to(my_map)\n",
    "                   \n",
    "        # Save the map to an HTML file or display it in a Jupyter Notebook\n",
    "        map_file_path = \"addresses_map.html\"\n",
    "        my_map.save(map_file_path)\n",
    "        print(f\"Map saved to {map_file_path}\")\n",
    "\n",
    "        # Print the DataFrame with Geolocation information\n",
    "        print(\"Filtered Addresses:\")\n",
    "        print(filtered_addresses)\n",
    "    else:\n",
    "        print(f\"Die Stadt {city} konnte nicht gefunden werden.\")\n",
    "\n",
    "def on_button_click():\n",
    "    global Str\n",
    "    Str = entry.get()\n",
    "    global PLZ \n",
    "    PLZ = entry1.get()\n",
    "    global Umkreis\n",
    "    Umkreis = float(entryUmkreis.get())\n",
    "    \n",
    "    label.config(text=f\"Eingegebene Straße: {Str}\")\n",
    "    label1.config(text=f\"Eingegebene PLZ: {PLZ}\")\n",
    "    labelUmkreis.config(text=f\"Eingegebener Umkreis: {Umkreis}\")\n",
    "    \n",
    "    Test123(PLZ, Str, Umkreis)\n",
    "# Erstelle das Hauptfenster\n",
    "root = tk.Tk()\n",
    "root.title(\"Eingabefeld Beispiel\")\n",
    "\n",
    "# Erstelle ein Label\n",
    "label = tk.Label(root, text=\"Gib eine Straße ein:\")\n",
    "label.pack()\n",
    "\n",
    "# Erstelle ein Eingabefeld\n",
    "entry = tk.Entry(root)\n",
    "entry.pack()\n",
    "label1 =tk.Label(root, text=\"Gib eine PLZ ein:\")\n",
    "label1.pack()\n",
    "entry1 = tk.Entry(root)\n",
    "entry1.pack()\n",
    "\n",
    "labelUmkreis =tk.Label(root, text=\"Umkreis der angezeigt werden soll in km\")\n",
    "labelUmkreis.pack()\n",
    "entryUmkreis = tk.Entry(root)\n",
    "entryUmkreis.pack()\n",
    "\n",
    "# Erstelle einen Button, der den eingegebenen Text ausgibt\n",
    "button = tk.Button(root, text=\"Bestätigen\", command=on_button_click)\n",
    "button.pack(side =\"left\", padx=100, pady=100)\n",
    "\n",
    "#Button für PDF\n",
    "#button = tk.Button(root, text=\"PDF Drucken\", command=pdfDrucken())\n",
    "#button.pack(side =\"left\", padx=100, pady=100)\n",
    "\n",
    "\n",
    "\n",
    "#PDF Erstellung (ChatGPT)\n",
    "def pdfDrucken():\n",
    "    SplitList=[item.split(',') for item in filtered_addresses]\n",
    "    df_distance = pd.DataFrame(SplitList)\n",
    "    print (df_distance)\n",
    "    plt.figure(figsize=(10, 4))#definiert die Größe der Gesamtabbildung\n",
    "    plt.table(cellText=df_distance.values, colLabels=df_distance.columns, loc='center')\n",
    "    plt.axis('off')  # Deaktiviere die Achsen\n",
    "    #plt.xlabel('X-Achse', fontsize=12)\n",
    "    plt.savefig('pandas_dataframe.pdf')\n",
    "    plt.show()\n",
    "    \n",
    "    \n",
    "button = tk.Button(root, text=\"PDF Drucken\", command=pdfDrucken)\n",
    "button.pack(side =\"left\", padx=100, pady=100)\n",
    "root.mainloop()"
   ]
  },
  {
   "cell_type": "code",
   "execution_count": 15,
   "id": "c525aab3-0b50-48e3-9dc6-e62afdd4e1ad",
   "metadata": {
    "tags": []
   },
   "outputs": [],
   "source": [
    "def Test123(Str, PLZ, Umkreis):\n",
    "    print(Str, PLZ, Umkreis)\n",
    "    # Get user input for city and radius\n",
    "    city, radius = get_user_input()\n",
    "\n",
    "    # Get coordinates of the specified city\n",
    "    city_location = geolocator.geocode(city)\n",
    "    if city_location:\n",
    "        center_coords = (city_location.latitude, city_location.longitude)\n",
    "\n",
    "        # Filter addresses within the specified radius\n",
    "        filtered_addresses = filter_addresses_by_radius(df, center_coords, radius)\n",
    "\n",
    "        # Display addresses in OpenStreetMap using folium\n",
    "        my_map = folium.Map(location=center_coords, zoom_start=6)\n",
    "\n",
    "        for index, row in df.iterrows():\n",
    "            coords = (row['Latitude'], row['Longitude'])\n",
    "            if not any(pd.isna(coord) for coord in coords):\n",
    "                distance = geodesic(center_coords, coords).kilometers\n",
    "                if distance <= radius:\n",
    "                    folium.Marker(\n",
    "                        location=[row['Latitude'], row['Longitude']],\n",
    "                        popup=row['Address'],\n",
    "                        icon=folium.Icon(color=\"blue\")\n",
    "                    ).add_to(my_map)\n",
    "                    \n",
    "\n",
    "        # Save the map to an HTML file or display it in a Jupyter Notebook\n",
    "        map_file_path = \"addresses_map.html\"\n",
    "        my_map.save(map_file_path)\n",
    "        print(f\"Map saved to {map_file_path}\")\n",
    "\n",
    "        # Print the DataFrame with Geolocation information\n",
    "        print(\"Filtered Addresses:\")\n",
    "        print(filtered_addresses)\n",
    "    else:\n",
    "        print(f\"Die Stadt {city} konnte nicht gefunden werden.\")\n"
   ]
  },
  {
   "cell_type": "code",
   "execution_count": 36,
   "id": "76b26a55-61e6-453d-ae86-8ca48deef5ff",
   "metadata": {
    "tags": []
   },
   "outputs": [
    {
     "name": "stdout",
     "output_type": "stream",
     "text": [
      "Requirement already satisfied: fpdf in c:\\users\\mappe\\anaconda3\\lib\\site-packages (1.7.2)\n"
     ]
    },
    {
     "ename": "OperationalError",
     "evalue": "no such table: df",
     "output_type": "error",
     "traceback": [
      "\u001b[1;31m---------------------------------------------------------------------------\u001b[0m",
      "\u001b[1;31mOperationalError\u001b[0m                          Traceback (most recent call last)",
      "Cell \u001b[1;32mIn[36], line 44\u001b[0m\n\u001b[0;32m     41\u001b[0m output_file \u001b[38;5;241m=\u001b[39m \u001b[38;5;124m\"\u001b[39m\u001b[38;5;124moutput.pdf\u001b[39m\u001b[38;5;124m\"\u001b[39m\n\u001b[0;32m     43\u001b[0m \u001b[38;5;66;03m# Daten aus der Datenbank abrufen\u001b[39;00m\n\u001b[1;32m---> 44\u001b[0m data \u001b[38;5;241m=\u001b[39m retrieve_data_from_database(database_file, table_name)\n\u001b[0;32m     46\u001b[0m \u001b[38;5;66;03m# PDF erstellen\u001b[39;00m\n\u001b[0;32m     47\u001b[0m create_pdf(data, output_file)\n",
      "Cell \u001b[1;32mIn[36], line 31\u001b[0m, in \u001b[0;36mretrieve_data_from_database\u001b[1;34m(database_file, table_name)\u001b[0m\n\u001b[0;32m     29\u001b[0m \u001b[38;5;66;03m# SQL-Abfrage\u001b[39;00m\n\u001b[0;32m     30\u001b[0m query \u001b[38;5;241m=\u001b[39m \u001b[38;5;124mf\u001b[39m\u001b[38;5;124m\"\u001b[39m\u001b[38;5;124mSELECT * FROM \u001b[39m\u001b[38;5;132;01m{\u001b[39;00mtable_name\u001b[38;5;132;01m}\u001b[39;00m\u001b[38;5;124m\"\u001b[39m\n\u001b[1;32m---> 31\u001b[0m cursor\u001b[38;5;241m.\u001b[39mexecute(query)\n\u001b[0;32m     32\u001b[0m data \u001b[38;5;241m=\u001b[39m [\u001b[38;5;28mtuple\u001b[39m(\u001b[38;5;28mmap\u001b[39m(\u001b[38;5;28mstr\u001b[39m, row)) \u001b[38;5;28;01mfor\u001b[39;00m row \u001b[38;5;129;01min\u001b[39;00m cursor\u001b[38;5;241m.\u001b[39mfetchall()]\n\u001b[0;32m     34\u001b[0m connection\u001b[38;5;241m.\u001b[39mclose()\n",
      "\u001b[1;31mOperationalError\u001b[0m: no such table: df"
     ]
    }
   ],
   "source": [
    "\n",
    "    "
   ]
  },
  {
   "cell_type": "code",
   "execution_count": null,
   "id": "29700a6c-17d9-466d-a433-d2b2e916378f",
   "metadata": {},
   "outputs": [],
   "source": []
  }
 ],
 "metadata": {
  "kernelspec": {
   "display_name": "Python 3 (ipykernel)",
   "language": "python",
   "name": "python3"
  },
  "language_info": {
   "codemirror_mode": {
    "name": "ipython",
    "version": 3
   },
   "file_extension": ".py",
   "mimetype": "text/x-python",
   "name": "python",
   "nbconvert_exporter": "python",
   "pygments_lexer": "ipython3",
   "version": "3.11.4"
  }
 },
 "nbformat": 4,
 "nbformat_minor": 5
}
