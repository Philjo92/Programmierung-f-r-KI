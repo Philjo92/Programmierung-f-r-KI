{
 "cells": [
  {
   "cell_type": "code",
   "execution_count": 1,
   "id": "1a477e6d",
   "metadata": {},
   "outputs": [
    {
     "data": {
      "application/vnd.jupyter.widget-view+json": {
       "model_id": "0d6786bc4a6f4b01bfcfe0a06bcda94d",
       "version_major": 2,
       "version_minor": 0
      },
      "text/plain": [
       "IntSlider(value=5, description='Wert:', max=10)"
      ]
     },
     "metadata": {},
     "output_type": "display_data"
    },
    {
     "name": "stdout",
     "output_type": "stream",
     "text": [
      "Neuer Wert: 6\n",
      "Neuer Wert: 7\n",
      "Neuer Wert: 8\n",
      "Neuer Wert: 9\n",
      "Neuer Wert: 10\n",
      "Neuer Wert: 9\n",
      "Neuer Wert: 8\n",
      "Neuer Wert: 7\n",
      "Neuer Wert: 6\n",
      "Neuer Wert: 5\n",
      "Neuer Wert: 4\n",
      "Neuer Wert: 3\n",
      "Neuer Wert: 2\n",
      "Neuer Wert: 1\n",
      "Neuer Wert: 0\n",
      "Neuer Wert: 1\n",
      "Neuer Wert: 2\n",
      "Neuer Wert: 3\n",
      "Neuer Wert: 4\n",
      "Neuer Wert: 5\n",
      "Neuer Wert: 6\n",
      "Neuer Wert: 7\n",
      "Neuer Wert: 8\n",
      "Neuer Wert: 7\n",
      "Neuer Wert: 6\n",
      "Neuer Wert: 5\n",
      "Neuer Wert: 4\n",
      "Neuer Wert: 3\n",
      "Neuer Wert: 2\n"
     ]
    }
   ],
   "source": [
    "##chat gpt\n",
    "import ipywidgets as widgets\n",
    "from IPython.display import display\n",
    "\n",
    "# Slider erstellen\n",
    "slider = widgets.IntSlider(min=0, max=10, value=5, description='Wert:')\n",
    "\n",
    "# Funktion, die auf Änderungen des Sliders reagiert\n",
    "def handle_slider_change(change):\n",
    "    print(f\"Neuer Wert: {change['new']}\")\n",
    "\n",
    "# Ereignis an den Slider binden\n",
    "slider.observe(handle_slider_change, names='value')\n",
    "\n",
    "# Den Slider anzeigen\n",
    "display(slider)"
   ]
  },
  {
   "cell_type": "code",
   "execution_count": 2,
   "id": "6f6e6bb3",
   "metadata": {},
   "outputs": [],
   "source": [
    "\n",
    "import tkinter as tk\n",
    "def button_click():\n",
    "    label.config(text=\"Button wurde geklickt!\")\n",
    "root = tk.Tk()\n",
    "root.title(\"Mein GUI\")\n",
    "label = tk.Label(root, text=\"Hallo, dies ist eine GUI!\")\n",
    "label.pack()\n",
    "button = tk.Button(root, text=\"Klick mich!\", command=button_click)\n",
    "button.pack()\n",
    "root.mainloop()\n"
   ]
  },
  {
   "cell_type": "code",
   "execution_count": 32,
   "id": "3c2a5e94",
   "metadata": {},
   "outputs": [],
   "source": [
    "\n",
    "def on_button_click():\n",
    "    value = entry.get()\n",
    "    label.config(text=f\"Eingegebene Straße: {value}\")\n",
    "    label1.config(text=f\"Eingegebene PLZ: {value}\")\n",
    "# Erstelle das Hauptfenster\n",
    "root = tk.Tk()\n",
    "root.title(\"Eingabefeld Beispiel\")\n",
    "\n",
    "# Erstelle ein Label\n",
    "label = tk.Label(root, text=\"Gib eine Straße ein:\")\n",
    "label.pack()\n",
    "\n",
    "# Erstelle ein Eingabefeld\n",
    "entry = tk.Entry(root)\n",
    "entry.pack()\n",
    "label1 =tk.Label(root, text=\"Gib eine PLZ ein:\")\n",
    "label1.pack()\n",
    "entry1 = tk.Entry(root)\n",
    "entry1.pack()\n",
    "\n",
    "# Erstelle einen Button, der den eingegebenen Text ausgibt\n",
    "button = tk.Button(root, text=\"Bestätigen\", command=on_button_click)\n",
    "button.pack(side =\"left\", padx=100, pady=100)\n",
    "root.mainloop()\n"
   ]
  },
  {
   "cell_type": "code",
   "execution_count": 49,
   "id": "47f07a28",
   "metadata": {},
   "outputs": [
    {
     "name": "stdout",
     "output_type": "stream",
     "text": [
      "Collecting geopy\n",
      "  Obtaining dependency information for geopy from https://files.pythonhosted.org/packages/e5/15/cf2a69ade4b194aa524ac75112d5caac37414b20a3a03e6865dfe0bd1539/geopy-2.4.1-py3-none-any.whl.metadata\n",
      "  Downloading geopy-2.4.1-py3-none-any.whl.metadata (6.8 kB)\n",
      "Collecting geographiclib<3,>=1.52 (from geopy)\n",
      "  Downloading geographiclib-2.0-py3-none-any.whl (40 kB)\n",
      "     ---------------------------------------- 0.0/40.3 kB ? eta -:--:--\n",
      "     ------------------- ------------------ 20.5/40.3 kB 640.0 kB/s eta 0:00:01\n",
      "     -------------------------------------- 40.3/40.3 kB 477.5 kB/s eta 0:00:00\n",
      "Downloading geopy-2.4.1-py3-none-any.whl (125 kB)\n",
      "   ---------------------------------------- 0.0/125.4 kB ? eta -:--:--\n",
      "   --- ------------------------------------ 10.2/125.4 kB ? eta -:--:--\n",
      "   ------------ -------------------------- 41.0/125.4 kB 495.5 kB/s eta 0:00:01\n",
      "   ---------------------------- ---------- 92.2/125.4 kB 751.6 kB/s eta 0:00:01\n",
      "   -------------------------------------  122.9/125.4 kB 722.1 kB/s eta 0:00:01\n",
      "   -------------------------------------- 125.4/125.4 kB 669.8 kB/s eta 0:00:00\n",
      "Installing collected packages: geographiclib, geopy\n",
      "Successfully installed geographiclib-2.0 geopy-2.4.1\n"
     ]
    }
   ],
   "source": [
    "!pip install geopy\n",
    "import pandas as pd\n",
    "\n",
    "from geopy.geocoders import Nominatim\n",
    "import tkinter as tk\n",
    "geolocator = Nominatim(user_agent=\"Exercises\")\n"
   ]
  },
  {
   "cell_type": "code",
   "execution_count": 65,
   "id": "f4fd2341",
   "metadata": {},
   "outputs": [],
   "source": [
    "def get_geolocation_GUI(Straße, PLZ):\n",
    "    try:\n",
    "        address = Straße, PLZ\n",
    "        location = geolocator.geocode(address)\n",
    "        if location:\n",
    "            return location.latitude, location.longitude\n",
    "        else:\n",
    "            return None, None\n",
    "        print (\"ping\")\n",
    "    except:\n",
    "        print(address)\n",
    "        return None,None "
   ]
  },
  {
   "cell_type": "code",
   "execution_count": null,
   "id": "e13edd35",
   "metadata": {},
   "outputs": [],
   "source": [
    "value = \"test\"\n",
    "value1 =\"test\"\n",
    "def update_output():\n",
    "    # Hier könnten Datenverarbeitung oder Berechnungen stattfinden\n",
    "    # Nehmen wir an, wir haben ein Ergebnis, das wir anzeigen wollen\n",
    "    result = get_geolocation_GUI(value,value1)\n",
    "\n",
    "    # Lösche den aktuellen Inhalt und füge das neue Ergebnis hinzu\n",
    "    output.config(state=tk.NORMAL)  # Aktiviere das Textfeld für Änderungen\n",
    "    output.delete(1.0, tk.END)  # Lösche den aktuellen Inhalt\n",
    "    output.insert(tk.END, result)  # Füge das Ergebnis ein\n",
    "    output.config(state=tk.DISABLED) \n",
    "\n",
    "\n",
    "def on_button_click():\n",
    "    value = entry.get()\n",
    "    value1 =entry1.get()\n",
    "    label.config(text=f\"Eingegebene Straße: {value}\")\n",
    "    label1.config(text=f\"Eingegebene PLZ: {value}\")\n",
    "    update_output()\n",
    "# Erstelle das Hauptfenster\n",
    "root = tk.Tk()\n",
    "root.title(\"Eingabefeld Beispiel\")\n",
    "\n",
    "# Erstelle ein Label\n",
    "label = tk.Label(root, text=\"Gib eine Straße ein:\")\n",
    "label.pack()\n",
    "\n",
    "# Erstelle ein Eingabefeld\n",
    "entry = tk.Entry(root)\n",
    "entry.pack()\n",
    "label1 =tk.Label(root, text=\"Gib eine PLZ ein:\")\n",
    "label1.pack()\n",
    "entry1 = tk.Entry(root)\n",
    "entry1.pack(pady=30)\n",
    "\n",
    "#erstelle Ausgafeld\n",
    "Outputlabel1 =tk.Label(root, text=\"Geodaten\")\n",
    "Outputlabel1.pack()\n",
    "output = tk.Text(root, height=1, width=100, state=tk.DISABLED)\n",
    "output.pack()\n",
    "\n",
    "\n",
    "# Erstelle einen Button, der den eingegebenen Text ausgibt\n",
    "button = tk.Button(root, text=\"Bestätigen\", command=on_button_click)\n",
    "button.pack(side =\"bottom\", padx=100, pady=100)\n",
    "root.mainloop()\n"
   ]
  },
  {
   "cell_type": "code",
   "execution_count": null,
   "id": "166185c3",
   "metadata": {},
   "outputs": [],
   "source": [
    "44.615664550000005 -1.1235327115921208\n"
   ]
  }
 ],
 "metadata": {
  "kernelspec": {
   "display_name": "Python 3 (ipykernel)",
   "language": "python",
   "name": "python3"
  },
  "language_info": {
   "codemirror_mode": {
    "name": "ipython",
    "version": 3
   },
   "file_extension": ".py",
   "mimetype": "text/x-python",
   "name": "python",
   "nbconvert_exporter": "python",
   "pygments_lexer": "ipython3",
   "version": "3.11.4"
  }
 },
 "nbformat": 4,
 "nbformat_minor": 5
}
